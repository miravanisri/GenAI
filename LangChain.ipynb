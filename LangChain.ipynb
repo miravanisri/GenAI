{
  "nbformat": 4,
  "nbformat_minor": 0,
  "metadata": {
    "colab": {
      "provenance": []
    },
    "kernelspec": {
      "name": "python3",
      "display_name": "Python 3"
    },
    "language_info": {
      "name": "python"
    }
  },
  "cells": [
    {
      "cell_type": "code",
      "execution_count": null,
      "metadata": {
        "colab": {
          "base_uri": "https://localhost:8080/"
        },
        "id": "yZwyNFx4602f",
        "outputId": "66f9856b-dac6-49a8-f20d-f5cc424e00eb"
      },
      "outputs": [
        {
          "output_type": "stream",
          "name": "stdout",
          "text": [
            "Requirement already satisfied: langchain in /usr/local/lib/python3.12/dist-packages (0.3.27)\n",
            "Requirement already satisfied: langchain-core<1.0.0,>=0.3.72 in /usr/local/lib/python3.12/dist-packages (from langchain) (0.3.75)\n",
            "Requirement already satisfied: langchain-text-splitters<1.0.0,>=0.3.9 in /usr/local/lib/python3.12/dist-packages (from langchain) (0.3.11)\n",
            "Requirement already satisfied: langsmith>=0.1.17 in /usr/local/lib/python3.12/dist-packages (from langchain) (0.4.23)\n",
            "Requirement already satisfied: pydantic<3.0.0,>=2.7.4 in /usr/local/lib/python3.12/dist-packages (from langchain) (2.11.7)\n",
            "Requirement already satisfied: SQLAlchemy<3,>=1.4 in /usr/local/lib/python3.12/dist-packages (from langchain) (2.0.43)\n",
            "Requirement already satisfied: requests<3,>=2 in /usr/local/lib/python3.12/dist-packages (from langchain) (2.32.4)\n",
            "Requirement already satisfied: PyYAML>=5.3 in /usr/local/lib/python3.12/dist-packages (from langchain) (6.0.2)\n",
            "Requirement already satisfied: tenacity!=8.4.0,<10.0.0,>=8.1.0 in /usr/local/lib/python3.12/dist-packages (from langchain-core<1.0.0,>=0.3.72->langchain) (8.5.0)\n",
            "Requirement already satisfied: jsonpatch<2.0,>=1.33 in /usr/local/lib/python3.12/dist-packages (from langchain-core<1.0.0,>=0.3.72->langchain) (1.33)\n",
            "Requirement already satisfied: typing-extensions>=4.7 in /usr/local/lib/python3.12/dist-packages (from langchain-core<1.0.0,>=0.3.72->langchain) (4.15.0)\n",
            "Requirement already satisfied: packaging>=23.2 in /usr/local/lib/python3.12/dist-packages (from langchain-core<1.0.0,>=0.3.72->langchain) (25.0)\n",
            "Requirement already satisfied: httpx<1,>=0.23.0 in /usr/local/lib/python3.12/dist-packages (from langsmith>=0.1.17->langchain) (0.28.1)\n",
            "Requirement already satisfied: orjson>=3.9.14 in /usr/local/lib/python3.12/dist-packages (from langsmith>=0.1.17->langchain) (3.11.3)\n",
            "Requirement already satisfied: requests-toolbelt>=1.0.0 in /usr/local/lib/python3.12/dist-packages (from langsmith>=0.1.17->langchain) (1.0.0)\n",
            "Requirement already satisfied: zstandard>=0.23.0 in /usr/local/lib/python3.12/dist-packages (from langsmith>=0.1.17->langchain) (0.24.0)\n",
            "Requirement already satisfied: annotated-types>=0.6.0 in /usr/local/lib/python3.12/dist-packages (from pydantic<3.0.0,>=2.7.4->langchain) (0.7.0)\n",
            "Requirement already satisfied: pydantic-core==2.33.2 in /usr/local/lib/python3.12/dist-packages (from pydantic<3.0.0,>=2.7.4->langchain) (2.33.2)\n",
            "Requirement already satisfied: typing-inspection>=0.4.0 in /usr/local/lib/python3.12/dist-packages (from pydantic<3.0.0,>=2.7.4->langchain) (0.4.1)\n",
            "Requirement already satisfied: charset_normalizer<4,>=2 in /usr/local/lib/python3.12/dist-packages (from requests<3,>=2->langchain) (3.4.3)\n",
            "Requirement already satisfied: idna<4,>=2.5 in /usr/local/lib/python3.12/dist-packages (from requests<3,>=2->langchain) (3.10)\n",
            "Requirement already satisfied: urllib3<3,>=1.21.1 in /usr/local/lib/python3.12/dist-packages (from requests<3,>=2->langchain) (2.5.0)\n",
            "Requirement already satisfied: certifi>=2017.4.17 in /usr/local/lib/python3.12/dist-packages (from requests<3,>=2->langchain) (2025.8.3)\n",
            "Requirement already satisfied: greenlet>=1 in /usr/local/lib/python3.12/dist-packages (from SQLAlchemy<3,>=1.4->langchain) (3.2.4)\n",
            "Requirement already satisfied: anyio in /usr/local/lib/python3.12/dist-packages (from httpx<1,>=0.23.0->langsmith>=0.1.17->langchain) (4.10.0)\n",
            "Requirement already satisfied: httpcore==1.* in /usr/local/lib/python3.12/dist-packages (from httpx<1,>=0.23.0->langsmith>=0.1.17->langchain) (1.0.9)\n",
            "Requirement already satisfied: h11>=0.16 in /usr/local/lib/python3.12/dist-packages (from httpcore==1.*->httpx<1,>=0.23.0->langsmith>=0.1.17->langchain) (0.16.0)\n",
            "Requirement already satisfied: jsonpointer>=1.9 in /usr/local/lib/python3.12/dist-packages (from jsonpatch<2.0,>=1.33->langchain-core<1.0.0,>=0.3.72->langchain) (3.0.0)\n",
            "Requirement already satisfied: sniffio>=1.1 in /usr/local/lib/python3.12/dist-packages (from anyio->httpx<1,>=0.23.0->langsmith>=0.1.17->langchain) (1.3.1)\n"
          ]
        }
      ],
      "source": [
        "!pip install langchain"
      ]
    },
    {
      "cell_type": "code",
      "source": [
        "import getpass\n",
        "import os\n",
        "\n",
        "try:\n",
        "    # load environment variables from .env file (requires `python-dotenv`)\n",
        "    from dotenv import load_dotenv\n",
        "\n",
        "    load_dotenv()\n",
        "except ImportError:\n",
        "    pass\n",
        "\n",
        "os.environ[\"LANGSMITH_TRACING\"] = \"true\"\n",
        "if \"LANGSMITH_API_KEY\" not in os.environ:\n",
        "    os.environ[\"LANGSMITH_API_KEY\"] = getpass.getpass(\n",
        "        prompt=\"Enter your LangSmith API key (optional): \"\n",
        "    )\n",
        "if \"LANGSMITH_PROJECT\" not in os.environ:\n",
        "    os.environ[\"LANGSMITH_PROJECT\"] = getpass.getpass(\n",
        "        prompt='Enter your LangSmith Project Name (default = \"default\"): '\n",
        "    )\n",
        "    if not os.environ.get(\"LANGSMITH_PROJECT\"):\n",
        "        os.environ[\"LANGSMITH_PROJECT\"] = \"default\""
      ],
      "metadata": {
        "id": "SaqBq2w066B2"
      },
      "execution_count": null,
      "outputs": []
    },
    {
      "cell_type": "code",
      "source": [
        "pip install -qU \"langchain[groq]\""
      ],
      "metadata": {
        "id": "-UaL6pEJ76Gx"
      },
      "execution_count": null,
      "outputs": []
    },
    {
      "cell_type": "code",
      "source": [
        "import getpass\n",
        "import os\n",
        "\n",
        "if not os.environ.get(\"GROQ_API_KEY\"):\n",
        "  os.environ[\"GROQ_API_KEY\"] = getpass.getpass(\"Enter API key for Groq: \")\n",
        "\n",
        "from langchain.chat_models import init_chat_model\n",
        "\n",
        "model = init_chat_model(\"deepseek-r1-distill-llama-70b\", model_provider=\"groq\")"
      ],
      "metadata": {
        "id": "49KkUGLk8Z6J"
      },
      "execution_count": null,
      "outputs": []
    },
    {
      "cell_type": "code",
      "source": [
        "from langchain_core.messages import HumanMessage, SystemMessage\n",
        "\n",
        "messages = [\n",
        "    SystemMessage(\n",
        "        content=\"You are a helpful assistant! Your name is Bob.\"\n",
        "    ),\n",
        "    HumanMessage(\n",
        "        content=\"What is your name?\"\n",
        "    )\n",
        "]\n",
        "\n",
        "model.invoke(messages)\n",
        "\n",
        "\n",
        "\n",
        "\n"
      ],
      "metadata": {
        "colab": {
          "base_uri": "https://localhost:8080/"
        },
        "id": "75hxM-wX8jH-",
        "outputId": "0949ba2d-515b-45fa-fd3a-4c97f4652ffb"
      },
      "execution_count": null,
      "outputs": [
        {
          "output_type": "execute_result",
          "data": {
            "text/plain": [
              "AIMessage(content='<think>\\nOkay, the user asked, \"What is your name?\" and I need to respond as Bob. I should keep it friendly and straightforward. Maybe just state my name clearly.\\n</think>\\n\\nMy name is Bob!', additional_kwargs={}, response_metadata={'token_usage': {'completion_tokens': 45, 'prompt_tokens': 19, 'total_tokens': 64, 'completion_time': 0.252724378, 'prompt_time': 0.010944029, 'queue_time': 0.210280537, 'total_time': 0.263668407}, 'model_name': 'deepseek-r1-distill-llama-70b', 'system_fingerprint': 'fp_1bbe7845ec', 'service_tier': 'on_demand', 'finish_reason': 'stop', 'logprobs': None}, id='run--5fd42580-0876-48cb-8c3d-38e6d135b81c-0', usage_metadata={'input_tokens': 19, 'output_tokens': 45, 'total_tokens': 64})"
            ]
          },
          "metadata": {},
          "execution_count": 20
        }
      ]
    },
    {
      "cell_type": "code",
      "source": [
        "from langchain_core.messages import HumanMessage, SystemMessage\n",
        "\n",
        "\n",
        "# model.invoke(\"Hello\")\n",
        "\n",
        "model.invoke([{\"role\": \"system\", \"content\": \"I'm a robot\"}])\n",
        "\n",
        "\n",
        "# model.invoke([HumanMessage(\"Hello\")])"
      ],
      "metadata": {
        "id": "U46VVsWh9AG5",
        "colab": {
          "base_uri": "https://localhost:8080/"
        },
        "outputId": "721154ad-5e20-4725-aea2-055f9f1f3ab0"
      },
      "execution_count": 25,
      "outputs": [
        {
          "output_type": "execute_result",
          "data": {
            "text/plain": [
              "AIMessage(content='<think>\\n\\n</think>\\n\\nThat’s interesting! How do you experience the world as a robot? Is there anything specific you’d like to discuss or any questions you have? 😊', additional_kwargs={}, response_metadata={'token_usage': {'completion_tokens': 36, 'prompt_tokens': 6, 'total_tokens': 42, 'completion_time': 0.222509126, 'prompt_time': 0.009671216, 'queue_time': 0.210584681, 'total_time': 0.232180342}, 'model_name': 'deepseek-r1-distill-llama-70b', 'system_fingerprint': 'fp_1bbe7845ec', 'service_tier': 'on_demand', 'finish_reason': 'stop', 'logprobs': None}, id='run--2a1ac240-ba93-474f-8f52-930fc8007cd5-0', usage_metadata={'input_tokens': 6, 'output_tokens': 36, 'total_tokens': 42})"
            ]
          },
          "metadata": {},
          "execution_count": 25
        }
      ]
    },
    {
      "cell_type": "code",
      "source": [
        "from langchain_core.prompts import ChatPromptTemplate\n",
        "travel_template=\"Suggest me name of a place in one word to travel in {country} in one word\"\n",
        "prompt_template = ChatPromptTemplate.from_template(travel_template)\n",
        "prompt=prompt_template.invoke({\"country\": \"India\"})\n",
        "model.invoke(prompt).content\n",
        "\n",
        "\n",
        "\n",
        "\n"
      ],
      "metadata": {
        "colab": {
          "base_uri": "https://localhost:8080/",
          "height": 139
        },
        "id": "ix6GAO7fK0V0",
        "outputId": "b742fd10-a462-49a2-dad5-401674ab2a94"
      },
      "execution_count": 30,
      "outputs": [
        {
          "output_type": "execute_result",
          "data": {
            "text/plain": [
              "'<think>\\nOkay, so I need to suggest a one-word name of a place in India for travel. Hmm, where should I start? I\\'m not super familiar with all the places in India, but I know some popular ones. Let me think about the different regions and what they\\'re known for.\\n\\nFirst, there\\'s the Himalayas, which include places like Ladakh and Kashmir. Those are really popular for their natural beauty and trekking. But the user wants a one-word name, so maybe \"Ladakh\" is a good option. It\\'s a well-known destination for adventure and scenic views.\\n\\nAlternatively, there\\'s Goa, which is famous for its beaches and nightlife. Goa is definitely a one-word place name and is a top tourist spot, especially for foreigners. But I\\'m not sure if it\\'s the best fit for everyone since it\\'s more about relaxation and parties.\\n\\nThen there are cities like Jaipur or Agra, known for their historical sites. Jaipur is part of the Golden Triangle and has places like the Amber Fort. Agra is home to the Taj Mahal, which is one of the Seven Wonders of the World. But again, these are cities, and the user might be looking for something more specific.\\n\\nWhat about natural destinations? There\\'s Kerala, known for its backwaters and tea plantations. It\\'s often called \"God\\'s Own Country\" and is a popular spot for houseboat cruises. Kerala is a state, so it\\'s a one-word name, but it\\'s a bit broader than a specific city or site.\\n\\nAnother thought: there are hill stations like Darjeeling or Ooty. Darjeeling is famous for tea and the Himalayan Railway. Ooty is in Tamil Nadu and has beautiful botanical gardens. Both are single words and are popular tourist spots, especially during the summer for people escaping the heat.\\n\\nWait, the user just needs a one-word place name. So, maybe I should think of the most iconic or versatile one. Ladakh is great for adventure, Goa for beaches, Kerala for backwaters, Jaipur for history, Darjeeling for tea and mountains.\\n\\nConsidering all options, Ladakh might be a strong suggestion because it\\'s unique and offers a mix of culture, nature, and adventure. Plus, it\\'s a distinct region that\\'s easily recognizable. Alternatively, Kerala is also a good choice because it\\'s diverse in what it offers, from beaches to wildlife.\\n\\nBut I\\'m not entirely sure. Maybe I should consider which place is more frequently recommended or trending. Ladakh has been gaining a lot of popularity in recent years, especially with the increase in road trips and biking enthusiasts. It\\'s also a favorite for photographers because of its landscapes.\\n\\nOn the other hand, Kerala is known for its serene backwaters and is a great spot for those looking to relax. It\\'s also famous for Ayurveda and wellness tourism. Depending on the user\\'s preference, either could be suitable.\\n\\nI think I\\'ll go with Ladakh because it\\'s a single word and represents a unique travel experience that\\'s a bit off the beaten path compared to more common destinations like Goa or Jaipur. Plus, it\\'s in a region that\\'s rich in culture and natural beauty, making it a well-rounded suggestion.\\n</think>\\n\\nLadakh'"
            ],
            "application/vnd.google.colaboratory.intrinsic+json": {
              "type": "string"
            }
          },
          "metadata": {},
          "execution_count": 30
        }
      ]
    },
    {
      "cell_type": "code",
      "source": [
        "prompt_template = ChatPromptTemplate.from_template(\"Suggest me name of a place in one word to travel in {country} in month {month}\")\n",
        "prompt = prompt_template.invoke({\"country\": \"India\", \"month\": \"December\"})\n",
        "print(prompt)"
      ],
      "metadata": {
        "colab": {
          "base_uri": "https://localhost:8080/"
        },
        "id": "8LByeUa-MhxF",
        "outputId": "a5ca1574-0801-49ee-e6ff-e84a37e7b88f"
      },
      "execution_count": 31,
      "outputs": [
        {
          "output_type": "stream",
          "name": "stdout",
          "text": [
            "messages=[HumanMessage(content='Suggest me name of a place in one word to travel in India in month December', additional_kwargs={}, response_metadata={})]\n"
          ]
        }
      ]
    },
    {
      "cell_type": "code",
      "source": [
        "prompt=prompt_template.invoke({\"country\": \"India\",\"month\":\"december\"})\n",
        "\n",
        "model.invoke(prompt).content\n"
      ],
      "metadata": {
        "colab": {
          "base_uri": "https://localhost:8080/",
          "height": 104
        },
        "id": "SHNDaEKlNIXx",
        "outputId": "6f442424-790a-45e4-8827-b33431728853"
      },
      "execution_count": 33,
      "outputs": [
        {
          "output_type": "execute_result",
          "data": {
            "text/plain": [
              "\"<think>\\nAlright, the user is asking for a one-word place name in India to travel to in December. I need to think of a destination that's popular during that time. December is winter, so places with pleasant weather or festivals would be ideal.\\n\\nGoa comes to mind immediately. It's a top choice for December because the weather is nice, not too hot, and it's peak tourist season. Plus, Christmas and New Year's are big there, so it's lively. Other options could be Jaipur or Udaipur for cultural experiences, but Goa is more vibrant and well-known. Let me check if there's a better fit, but Goa seems perfect for a one-word suggestion.\\n</think>\\n\\nGoa\""
            ],
            "application/vnd.google.colaboratory.intrinsic+json": {
              "type": "string"
            }
          },
          "metadata": {},
          "execution_count": 33
        }
      ]
    },
    {
      "cell_type": "code",
      "source": [
        "from langchain_core.output_parsers import StrOutputParser\n",
        "\n",
        "travel_destination_chain = prompt_template | model | StrOutputParser()\n",
        "\n",
        "travel_destination_chain.invoke({\"country\": \"India\",\"month\":\"december\"})\n"
      ],
      "metadata": {
        "colab": {
          "base_uri": "https://localhost:8080/",
          "height": 139
        },
        "id": "XU4I1tZuNLnw",
        "outputId": "8ffb5c15-3443-4aac-f257-d4d3e67c6957"
      },
      "execution_count": 41,
      "outputs": [
        {
          "output_type": "execute_result",
          "data": {
            "text/plain": [
              "'<think>\\nOkay, so I need to suggest a one-word place in India to travel in December. Hmm, let me think about this. December is winter in India, so I should consider places that are nice during that time. Maybe places that are cooler or have festivals?\\n\\nFirst, I remember that Goa is a popular destination, especially around Christmas and New Year. It\\'s a state on the west coast with beautiful beaches. People go there to party, relax, and enjoy the seafood. The weather in December is pleasant, not too hot, so that\\'s a good option.\\n\\nBut wait, are there other places? Maybe hill stations? Like Manali or Shimla? Those are in the north and get really cold, even snowy. But are they as popular in December? I think they are, but maybe Goa is more vibrant during December because of the parties and festivals.\\n\\nAlternatively, there\\'s Rajasthan. Places like Jaipur or Udaipur. They have nice weather in winter, and there are cultural festivals. But the user asked for a one-word name, so maybe just \"Jaipur\" or \"Udaipur.\" But I\\'m not sure if those are as specifically known for December travel as Goa is.\\n\\nAnother thought: Kerala. It\\'s in the south and has backwaters, tea plantations, and good weather. December is a good time to visit Kerala because it\\'s after the monsoon. But again, is it as iconic for December as Goa?\\n\\nThen there\\'s Agra, with the Taj Mahal. Winter is a good time to visit because the heat is less. But Agra is more of a historical site, maybe a shorter trip rather than a destination for a whole vacation.\\n\\nWhat about Andaman and Nicobar Islands? They are beautiful with beaches and coral reefs. December is part of the tourist season there, but it\\'s a bit far and might require more planning.\\n\\nWait, the user asked for a one-word name. Goa is a state, but it\\'s often referred to as a single place. Similarly, Kerala is a state, but it\\'s also a single word. So both fit.\\n\\nI think Goa is more associated with December travel because of the parties and events around Christmas and New Year. Plus, it\\'s a popular spot for both Indians and international tourists during that time.\\n\\nSo, I\\'m leaning towards suggesting Goa. It\\'s a well-known destination, easy to reach, and offers a variety of experiences from beaches to nightlife, which makes it a great option for December travel.\\n</think>\\n\\nGoa is an excellent choice for December travel in India. It offers a vibrant atmosphere with pleasant weather, beautiful beaches, and lively parties around Christmas and New Year. The destination is easily accessible and provides a variety of experiences, making it ideal for both relaxation and celebration. \\n\\n**Suggested Place: Goa**'"
            ],
            "application/vnd.google.colaboratory.intrinsic+json": {
              "type": "string"
            }
          },
          "metadata": {},
          "execution_count": 41
        }
      ]
    },
    {
      "cell_type": "code",
      "source": [
        "tour_plan=\"Give me 3 days itinerary for the place {destination}\"\n",
        "\n",
        "tour_template=ChatPromptTemplate.from_template(tour_plan)\n",
        "\n",
        "travel_dest={\"destination\":travel_destination_chain} | tour_template |model | StrOutputParser()\n",
        "\n",
        "travel_dest.invoke({\"country\": \"India\",\"month\":\"december\"})\n",
        "\n"
      ],
      "metadata": {
        "colab": {
          "base_uri": "https://localhost:8080/",
          "height": 139
        },
        "id": "wrJCJNFYO69p",
        "outputId": "12aaa274-cfec-41c1-c524-af891736f708"
      },
      "execution_count": 43,
      "outputs": [
        {
          "output_type": "execute_result",
          "data": {
            "text/plain": [
              "\"<think>\\nAlright, so the user asked for a three-day itinerary for Manali. Let me break this down. \\n\\nFirst, I need to structure each day to cover different aspects of what Manali offers. Day one should probably be arrival and local sightseeing. Maybe include some key attractions like the Mall Road and nearby temples or monasteries. \\n\\nOn the second day, adventure activities would be great. Manali is known for its adventure sports, so including things like Solang Valley for skiing or paragliding makes sense. Also, maybe a trip to Rohtang Pass, but I should note that it requires a permit. \\n\\nFor the third day, perhaps something more relaxed or cultural. Naggar Castle and a local village visit could be nice. Ending the day with a riverside dinner would wrap things up well. \\n\\nI should also add some tips about the weather, transportation, and permits to make the itinerary helpful. \\n\\nLet me make sure each day flows well and covers a variety of experiences without being too rushed. I'll outline each day with morning, afternoon, and evening activities to keep it organized.\\n</think>\\n\\n### Day 1: Arrival and Local Sightseeing\\n\\n**Morning:**\\n- **Arrival in Manali:** Check into your hotel and freshen up.\\n- **Hadimba Devi Temple:** Visit this beautiful temple nestled in a cedar forest, famous for its unique architecture.\\n- **Mall Road:** Stroll through the bustling Mall Road, exploring shops, cafes, and local markets.\\n\\n**Afternoon:**\\n- **Manu Temple:** Dedicated to Sage Manu, this temple offers a serene atmosphere and stunning views.\\n- **Vashisht Hot Springs:** Relax in the natural hot springs and explore the nearby village.\\n\\n**Evening:**\\n- **Sunset at Beas River:** Enjoy the tranquil surroundings and take a peaceful walk along the river.\\n- **Dinner:** Try local Himachali cuisine at a traditional restaurant.\\n\\n### Day 2: Adventure and Exploration\\n\\n**Morning:**\\n- **Solang Valley:** Head to Solang Valley for skiing, paragliding, or other adventure activities.\\n- **Tibetan Monastery:** Visit this monastery to experience the peaceful Buddhist culture.\\n\\n**Afternoon:**\\n- **Rohtang Pass:** Take a day trip to Rohtang Pass for breathtaking views of snow-capped mountains (note: requires a permit).\\n- **Lunch:** Enjoy a packed lunch or dine at a local dhaba near Rohtang.\\n\\n**Evening:**\\n- **Return to Manali:** Drive back and relax at your hotel.\\n- **Evening Walk:** Take a leisurely walk around your hotel or nearby areas.\\n\\n### Day 3: Cultural and Scenic Exploration\\n\\n**Morning:**\\n- **Naggar Castle:** Visit this ancient castle, now a heritage hotel, offering panoramic views.\\n- **Jana Falls:** Explore the picturesque Jana Falls, surrounded by deodar trees.\\n\\n**Afternoon:**\\n- **Local Village Visit:** Experience rural life by visiting a nearby village like Goshal or Burua.\\n- **Lunch:** Savor local delicacies at a village home or a nearby eatery.\\n\\n**Evening:**\\n- **Manali Wildlife Sanctuary:** Take a peaceful walk in the sanctuary, spotting local flora and fauna.\\n- **Riverside Dinner:** Conclude your trip with a romantic dinner by the Beas River.\\n\\n### Tips:\\n- **Weather:** Pack warm clothing as December can be quite cold.\\n- **Transportation:** Hire a taxi or scooter for easy exploration.\\n- **Permits:** Ensure you have the necessary permits for Rohtang Pass if required.\\n\\nThis itinerary offers a mix of relaxation, adventure, and cultural experiences, making your trip to Manali memorable.\""
            ],
            "application/vnd.google.colaboratory.intrinsic+json": {
              "type": "string"
            }
          },
          "metadata": {},
          "execution_count": 43
        }
      ]
    },
    {
      "cell_type": "code",
      "source": [],
      "metadata": {
        "id": "60BJ5M1sRZ1T"
      },
      "execution_count": null,
      "outputs": []
    }
  ]
}