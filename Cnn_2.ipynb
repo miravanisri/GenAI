{
  "nbformat": 4,
  "nbformat_minor": 0,
  "metadata": {
    "colab": {
      "provenance": []
    },
    "kernelspec": {
      "name": "python3",
      "display_name": "Python 3"
    },
    "language_info": {
      "name": "python"
    }
  },
  "cells": [
    {
      "cell_type": "markdown",
      "source": [
        "# **Vertical Edge detection using Correlate2d**"
      ],
      "metadata": {
        "id": "J-td61x-gSk7"
      }
    },
    {
      "cell_type": "code",
      "source": [
        "import numpy as np\n",
        "import matplotlib.pyplot as plt\n",
        "from scipy.signal import correlate2d,convolve2d"
      ],
      "metadata": {
        "id": "HuaujfxYgPDS"
      },
      "execution_count": 12,
      "outputs": []
    },
    {
      "cell_type": "code",
      "source": [
        "image=np.array([\n",
        "    [0, 0, 255, 255, 255, 255, 255, 0, 0],\n",
        "    [0, 0, 0, 0, 255, 255, 0, 0, 0],\n",
        "    [0, 0, 0, 0, 255, 255, 0, 0, 0],\n",
        "    [0, 0, 0, 0, 255, 255, 0, 0, 0],\n",
        "    [0, 0, 0, 0, 255, 255, 0, 0, 0],\n",
        "    [0, 0, 0, 0, 255, 255, 0, 0, 0],\n",
        "    [0, 0, 0, 0, 255, 255, 0, 0, 0],\n",
        "    [0, 0, 0, 0, 255, 255, 0, 0, 0],\n",
        "    [0, 0, 0, 0, 0, 0, 0, 0, 0]\n",
        "\n",
        "],dtype=np.float32)\n",
        "\n",
        "vertical_kernel = np.array([\n",
        "    [-1, 0, 1],\n",
        "    [-2, 0, 2],\n",
        "    [-1, 0, 1]\n",
        "], dtype=np.float32)\n"
      ],
      "metadata": {
        "id": "eyPJpFZTXZlQ"
      },
      "execution_count": 13,
      "outputs": []
    },
    {
      "cell_type": "code",
      "source": [
        "corr_res=correlate2d(image,vertical_kernel,mode='same')\n"
      ],
      "metadata": {
        "id": "qumHRHC1YDVL"
      },
      "execution_count": 14,
      "outputs": []
    },
    {
      "cell_type": "code",
      "source": [
        "print(corr_res)"
      ],
      "metadata": {
        "colab": {
          "base_uri": "https://localhost:8080/"
        },
        "id": "pr5Z05B_YoPw",
        "outputId": "4064b422-d341-431c-82ed-3a0132d34920"
      },
      "execution_count": 15,
      "outputs": [
        {
          "output_type": "stream",
          "name": "stdout",
          "text": [
            "[[    0.   510.   510.   255.   255.  -255.  -765.  -510.     0.]\n",
            " [    0.   255.   255.   765.   765.  -765. -1020.  -255.     0.]\n",
            " [    0.     0.     0.  1020.  1020. -1020. -1020.     0.     0.]\n",
            " [    0.     0.     0.  1020.  1020. -1020. -1020.     0.     0.]\n",
            " [    0.     0.     0.  1020.  1020. -1020. -1020.     0.     0.]\n",
            " [    0.     0.     0.  1020.  1020. -1020. -1020.     0.     0.]\n",
            " [    0.     0.     0.  1020.  1020. -1020. -1020.     0.     0.]\n",
            " [    0.     0.     0.   765.   765.  -765.  -765.     0.     0.]\n",
            " [    0.     0.     0.   255.   255.  -255.  -255.     0.     0.]]\n"
          ]
        }
      ]
    },
    {
      "cell_type": "code",
      "source": [
        "plt.figure(figsize=(12, 3))\n",
        "\n",
        "# Plot the original image\n",
        "plt.subplot(1, 2, 1)\n",
        "plt.imshow(image, cmap='gray')\n",
        "plt.title('Original Image')\n",
        "plt.axis('off')\n",
        "\n",
        "plt.subplot(1, 2, 2)\n",
        "plt.imshow(corr_res, cmap='gray')\n",
        "plt.title('Correlation Result')\n",
        "plt.axis('off')\n",
        "\n",
        "plt.tight_layout()\n",
        "plt.show()"
      ],
      "metadata": {
        "colab": {
          "base_uri": "https://localhost:8080/",
          "height": 307
        },
        "id": "p3wHXpq2Y07S",
        "outputId": "5c187b61-4799-458b-b27a-f6faa640542c"
      },
      "execution_count": 16,
      "outputs": [
        {
          "output_type": "display_data",
          "data": {
            "text/plain": [
              "<Figure size 1200x300 with 2 Axes>"
            ],
            "image/png": "[encoded data removed]"
          },
          "metadata": {}
        }
      ]
    },
    {
      "cell_type": "markdown",
      "source": [
        "# **Vertical Edge detection using Convolve2d**"
      ],
      "metadata": {
        "id": "7dYR4OpVt6tN"
      }
    },
    {
      "cell_type": "code",
      "source": [
        "\n",
        "\n",
        "\n",
        "image=np.array([\n",
        "    [0, 0, 255, 255, 255, 255, 255, 0, 0],\n",
        "    [0, 0, 0, 0, 255, 255, 0, 0, 0],\n",
        "    [0, 0, 0, 0, 255, 255, 0, 0, 0],\n",
        "    [0, 0, 0, 0, 255, 255, 0, 0, 0],\n",
        "    [0, 0, 0, 0, 255, 255, 0, 0, 0],\n",
        "    [0, 0, 0, 0, 255, 255, 0, 0, 0],\n",
        "    [0, 0, 0, 0, 255, 255, 0, 0, 0],\n",
        "    [0, 0, 0, 0, 255, 255, 0, 0, 0],\n",
        "    [0, 0, 0, 0, 0, 0, 0, 0, 0]\n",
        "\n",
        "],dtype=np.float32)\n",
        "\n",
        "vertical_kernel = np.array([\n",
        "    [-1, 0, 1],\n",
        "    [-2, 0, 2],\n",
        "    [-1, 0, 1]\n",
        "], dtype=np.float32)\n",
        "corr_res=convolve2d(image,vertical_kernel,mode='same')\n",
        "plt.figure(figsize=(12, 3))\n",
        "\n",
        "# Plot the original image\n",
        "plt.subplot(1, 2, 1)\n",
        "plt.imshow(image, cmap='gray')\n",
        "plt.title('Original Image')\n",
        "plt.axis('off')\n",
        "\n",
        "plt.subplot(1, 2, 2)\n",
        "plt.imshow(corr_res, cmap='gray')\n",
        "plt.title('Correlation Result')\n",
        "plt.axis('off')\n",
        "\n",
        "plt.tight_layout()\n",
        "plt.show()"
      ],
      "metadata": {
        "colab": {
          "base_uri": "https://localhost:8080/",
          "height": 307
        },
        "id": "RFQLJjt9uA7r",
        "outputId": "48d4f8e5-dacd-41eb-d191-99e23886c902"
      },
      "execution_count": 17,
      "outputs": [
        {
          "output_type": "display_data",
          "data": {
            "text/plain": [
              "<Figure size 1200x300 with 2 Axes>"
            ],
            "image/png": "[encoded data removed]"
          },
          "metadata": {}
        }
      ]
    },
    {
      "cell_type": "markdown",
      "source": [
        "# **Blurring and Sharpening Image**"
      ],
      "metadata": {
        "id": "cA29EMGlu-hB"
      }
    },
    {
      "cell_type": "code",
      "source": [
        "import numpy as np\n",
        "import matplotlib.pyplot as plt\n",
        "from scipy.signal import correlate2d\n",
        "\n",
        "# Step 1: Create a larger binary image with a detailed face-like pattern\n",
        "image = np.array([\n",
        "    [255, 255, 255, 255, 255, 255, 255, 255, 255, 255, 255, 255, 255, 255, 255, 255, 255, 255, 0, 0, 255, 255],\n",
        "    [255, 255, 0, 0, 255, 255, 255, 255, 255, 255, 255, 255, 255, 255, 255, 255, 255, 255, 0, 0, 255, 255],\n",
        "    [255, 0, 0, 0, 255, 255, 255, 255, 255, 255, 255, 255, 255, 255, 255, 255, 255, 255, 0, 0, 0, 255],\n",
        "    [255, 0, 255, 255, 255, 255, 255, 255, 255, 255, 255, 255, 255, 255, 255, 255, 255, 255, 255, 255, 0, 255],\n",
        "    [255, 0, 255, 0, 0, 0, 0, 0, 0, 255, 255, 255, 255, 255, 255, 255, 0, 0, 0, 255, 0, 255],\n",
        "    [255, 0, 255, 0, 255, 255, 255, 255, 0, 255, 255, 255, 255, 255, 255, 255, 0, 255, 0, 255, 0, 255],\n",
        "    [255, 0, 255, 0, 255, 0, 0, 255, 0, 255, 0, 0, 0, 0, 0, 255, 0, 255, 0, 255, 0, 255],\n",
        "    [255, 0, 255, 0, 255, 255, 255, 255, 0, 255, 0, 255, 255, 255, 255, 255, 0, 255, 0, 255, 0, 255],\n",
        "    [255, 0, 255, 0, 0, 0, 0, 0, 0, 255, 0, 255, 0, 0, 0, 0, 0, 255, 0, 255, 0, 255],\n",
        "    [255, 0, 255, 255, 0, 0, 0, 0, 255, 255, 0, 255, 0, 0, 0, 0, 255, 255, 0, 255, 0, 255],\n",
        "    [255, 255, 255, 255, 255, 255, 255, 255, 255, 255, 255, 255, 255, 255, 255, 255, 255, 255, 0, 0, 255, 255]\n",
        "], dtype=np.float32)\n",
        "\n",
        "# Step 2: Define a larger blur (average) kernel\n",
        "blur_kernel = np.ones((7, 7), dtype=np.float32) / 49\n",
        "\n",
        "# Apply blur\n",
        "blurred_image = correlate2d(image, blur_kernel, mode='same')\n",
        "\n",
        "# Step 3: Define a sharpening kernel\n",
        "sharpen_kernel = np.array([\n",
        "    [-1, -1, -1],\n",
        "    [-1,  9, -1],\n",
        "    [-1, -1, -1]\n",
        "], dtype=np.float32)\n",
        "\n",
        "# Apply sharpening\n",
        "sharpened_image = correlate2d(blurred_image, sharpen_kernel, mode='same')\n",
        "\n",
        "print(\"Blurred Image -> \\n\")\n",
        "print(blurred_image, \"\\n\")\n",
        "\n",
        "print(\"Sharpened Image -> \\n\")\n",
        "print(sharpened_image, \"\\n\")\n",
        "\n",
        "# Step 4: Visualize Results\n",
        "fig, axs = plt.subplots(1, 3, figsize=(18, 6))\n",
        "\n",
        "axs[0].imshow(image, cmap='gray', vmin=0, vmax=255)\n",
        "axs[0].set_title('Original Image (Larger Face-like Pattern)')\n",
        "\n",
        "axs[1].imshow(blurred_image, cmap='gray')\n",
        "axs[1].set_title('Blur Effect (Larger Average Kernel)')\n",
        "\n",
        "axs[2].imshow(sharpened_image, cmap='gray')\n",
        "axs[2].set_title('After Applying Sharpening Kernel')\n",
        "\n",
        "plt.show()\n"
      ],
      "metadata": {
        "colab": {
          "base_uri": "https://localhost:8080/",
          "height": 1000
        },
        "id": "rBpJpJXLuM_U",
        "outputId": "d2c1fd99-a4b1-4630-931c-64b853c8046b"
      },
      "execution_count": 18,
      "outputs": [
        {
          "output_type": "stream",
          "name": "stdout",
          "text": [
            "Blurred Image -> \n",
            "\n",
            "[[ 52.04082   72.85715   93.67346  114.489784 114.489784 124.89794\n",
            "  135.3061   145.71428  145.71428  145.71428  145.71428  145.71428\n",
            "  145.71428  145.71428  145.71428  130.10204  114.489784 104.081635\n",
            "  104.08162   83.265305  62.448982  41.632652]\n",
            " [ 62.448986  83.265305 104.08163  124.89795  119.69386  130.10202\n",
            "  140.5102   156.12245  161.32654  166.53062  171.7347   176.93878\n",
            "  182.14287  176.93878  171.7347   150.91837  135.30612  119.69388\n",
            "  119.693855  93.67346   72.85714   52.040817]\n",
            " [ 72.85715   98.87754  124.89795  150.91837  145.71428  156.12244\n",
            "  166.53061  187.34695  192.55104  197.75513  202.9592   208.16328\n",
            "  218.57146  208.16328  202.9592   176.93878  161.32654  140.51021\n",
            "  140.5102   109.285706  88.46938   62.448982]\n",
            " [ 83.265305 114.48978  140.5102   166.53061  161.32652  171.73468\n",
            "  182.14287  202.9592   202.95921  208.16328  213.36736  213.36737\n",
            "  228.97963  213.36737  213.36737  187.34695  176.9388   156.12245\n",
            "  161.32652  124.89795  104.08163   72.85715 ]\n",
            " [ 72.85715  104.08162  130.10204  156.12245  150.91837  161.32652\n",
            "  171.7347   192.55101  192.55103  197.7551   202.95918  202.9592\n",
            "  223.77554  202.9592   208.16328  182.14287  176.9388   150.91837\n",
            "  156.12244  119.69387  104.08163   72.85715 ]\n",
            " [ 72.85715   98.87754  119.69387  140.5102   130.10202  140.51021\n",
            "  145.71428  161.32652  166.53061  171.73468  176.93877  176.93877\n",
            "  197.75511  171.73471  182.14287  156.12245  161.32654  135.30612\n",
            "  145.7143   114.48979  104.08163   72.85715 ]\n",
            " [ 83.265305 104.08162  119.69388  135.30612  119.69387  130.10204\n",
            "  130.10202  135.30612  145.71428  150.91837  156.12245  156.12242\n",
            "  171.73468  145.7143   161.32655  135.30612  150.91837  130.10204\n",
            "  145.71428  119.69387  109.285706  78.06123 ]\n",
            " [ 88.46938  109.285706 124.89795  140.51021  124.89794  130.10204\n",
            "  130.10202  135.3061   145.71428  150.91837  156.12245  156.12245\n",
            "  171.7347   145.71428  161.32652  130.10202  140.5102   124.89794\n",
            "  140.51021  114.489784 104.08163   72.85715 ]\n",
            " [ 78.061226  98.87755  114.489784 130.10204  119.69387  124.89794\n",
            "  124.89794  124.89794  130.10202  130.10204  130.10204  124.89796\n",
            "  135.30612  114.489784 135.3061   109.285706 119.693855 109.28571\n",
            "  124.89794  104.08163   93.67346   62.448982]\n",
            " [ 67.65307   83.265305  93.67347  104.08163   93.67347   98.87754\n",
            "   98.87754   93.67346   98.87755   98.87755   98.87755   93.673454\n",
            "   98.87754   83.2653   104.08163   83.265305  93.67347   88.46938\n",
            "  104.08162   88.46938   78.06122   52.040817]\n",
            " [ 57.244904  67.65306   78.06122   88.46938   78.06122   83.2653\n",
            "   83.2653    78.06122   88.46938   88.46938   88.46938   88.46938\n",
            "   88.46938   78.06122   93.67347   72.85714   78.061226  72.85714\n",
            "   83.265305  72.85714   62.44898   41.632652]] \n",
            "\n",
            "Sharpened Image -> \n",
            "\n",
            "[[249.79597  260.20413  343.46927  473.5714   416.3265   483.97943\n",
            "  520.40814  572.4489   536.0203   520.4081   504.79584  489.1836\n",
            "  483.9795   489.1836   536.0204   452.75516  390.30603  343.46945\n",
            "  416.32642  296.63272  218.57143  187.34694 ]\n",
            " [182.14294   67.653076  72.85712  156.12248   15.612198  67.652985\n",
            "   62.448975 130.10204  114.48981  135.30624  156.12245  171.73463\n",
            "  213.3673   171.73465  208.16336  119.69382  119.693954  57.24498\n",
            "  182.14276   62.448982  62.448944 140.51022 ]\n",
            " [213.36746  104.08157  140.5102   270.61224  130.10205  187.34682\n",
            "  171.73465  281.0205   249.79594  260.20422  270.6123   265.40826\n",
            "  359.08173  265.4082   327.8572   192.55092  208.16325   93.673584\n",
            "  239.38776   78.061195 104.081604 171.73471 ]\n",
            " [286.22455  202.959    218.57146  338.26535  192.55107  249.7957\n",
            "  228.97969  338.26532  255.00021  270.6123   286.22446  218.5716\n",
            "  369.49002  213.36739  338.26538  187.34697  260.2043   140.51022\n",
            "  353.87753  140.5102   182.14276  223.77557 ]\n",
            " [182.143    104.08158  130.10211  265.4083   130.10207  197.75508\n",
            "  187.34694  307.04068  228.97958  244.59181  265.40814  192.55104\n",
            "  405.91843  187.34697  364.28583  176.93872  286.22464   88.46933\n",
            "  296.63257   62.448936 150.91827  197.75516 ]\n",
            " [192.55113   83.265274  88.46948  202.9592    36.42842  124.89815\n",
            "   88.4693   171.73463  150.91837  156.12227  176.93867  104.08142\n",
            "  327.85718   52.04088  275.81625   46.83667  234.1837     0.\n",
            "  239.38791   26.020355 145.71422  187.347   ]\n",
            " [275.81638  119.69379  104.08168  197.75519    5.204056 119.693924\n",
            "   62.448868  57.244965  93.67345   88.469376 109.28569   41.632477\n",
            "  223.77534  -52.040695 223.77573  -26.02037  244.59183   26.02037\n",
            "  286.22446   98.87757  202.95914  239.38782 ]\n",
            " [322.653    171.73465  171.73466  275.81644   93.673256 166.53061\n",
            "  135.30609  150.9183   208.16325  213.36739  249.7959   202.95926\n",
            "  395.5103   114.48973  374.6939    57.244804 255.        62.44886\n",
            "  291.42868   88.46936  182.14276  208.16336 ]\n",
            " [255.00002  130.10205  145.7142   255.00003  130.10205  202.95905\n",
            "  187.34686  166.53047  192.55092  161.32655  161.3265    83.26534\n",
            "  228.9797    -5.204132 286.22443   15.612282 197.75497   46.836807\n",
            "  249.7958    88.46936  166.53056  161.32655 ]\n",
            " [223.77556   93.67348   78.06124  140.51016   15.612297  83.26534\n",
            "   78.06128   15.612312  57.24494   36.428574  46.83677  -10.408249\n",
            "   83.26529  -98.87753  166.53061  -57.24485  109.28574   10.408165\n",
            "  192.55087   72.85718  124.897896 130.10208 ]\n",
            " [296.6327   228.97961  265.4081   348.67343  234.18365  296.63263\n",
            "  296.63266  239.38776  338.26526  322.653    327.8571   327.85712\n",
            "  353.87753  234.18365  421.5306   202.95917  291.42856  208.16322\n",
            "  322.65308  239.38776  228.97961  182.14287 ]] \n",
            "\n"
          ]
        },
        {
          "output_type": "display_data",
          "data": {
            "text/plain": [
              "<Figure size 1800x600 with 3 Axes>"
            ],
            "image/png": "[encoded data removed]"
          },
          "metadata": {}
        }
      ]
    },
    {
      "cell_type": "code",
      "source": [],
      "metadata": {
        "id": "YIrv3s59u5qo"
      },
      "execution_count": null,
      "outputs": []
    }
  ]
}